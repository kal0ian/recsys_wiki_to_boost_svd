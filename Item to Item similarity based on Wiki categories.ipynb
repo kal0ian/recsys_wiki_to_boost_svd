{
 "cells": [
  {
   "cell_type": "code",
   "execution_count": 1,
   "metadata": {},
   "outputs": [
    {
     "name": "stderr",
     "output_type": "stream",
     "text": [
      "Skipping loading of user-config.py.\n",
      "family and mylang are not set.\n",
      "Defaulting to family='test' and mylang='test'.\n"
     ]
    }
   ],
   "source": [
    "from surprise import Dataset\n",
    "from surprise import SVD\n",
    "\n",
    "import pandas as pd\n",
    "import re\n",
    "import pywikibot as pw\n",
    "import numpy as np\n",
    "import pickle"
   ]
  },
  {
   "cell_type": "code",
   "execution_count": 2,
   "metadata": {},
   "outputs": [],
   "source": [
    "site = pw.Site('en', 'wikipedia')"
   ]
  },
  {
   "cell_type": "code",
   "execution_count": 3,
   "metadata": {},
   "outputs": [
    {
     "name": "stdout",
     "output_type": "stream",
     "text": [
      "users= 943\n",
      "items= 1682\n",
      "ratings= 100000\n"
     ]
    }
   ],
   "source": [
    "ml_100k_data = Dataset.load_builtin('ml-100k')\n",
    "ml_100k_data_frame = pd.DataFrame(ml_100k_data.raw_ratings)\n",
    "\n",
    "print(\"users=\", len(ml_100k_data_frame[0].unique()))\n",
    "print(\"items=\", len(ml_100k_data_frame[1].unique()))\n",
    "print(\"ratings=\", len(ml_100k_data_frame))"
   ]
  },
  {
   "cell_type": "code",
   "execution_count": 4,
   "metadata": {
    "scrolled": true
   },
   "outputs": [],
   "source": [
    "movies = pd.read_csv(\"ml-100k\\\\u.item\", sep=\"|\", header = None, encoding='latin-1')[[0,1]]\n",
    "movies = movies.values[:,1]"
   ]
  },
  {
   "cell_type": "code",
   "execution_count": 5,
   "metadata": {},
   "outputs": [],
   "source": [
    "def get_film_wiki_categories(film_name):\n",
    "    dic = {}\n",
    "    names = generate_film_names(film_name)\n",
    "    for name in names:\n",
    "        page = pw.Page(site, name)\n",
    "        occ = get_occ_of_film_in_page(page)\n",
    "        dic[name] = occ\n",
    "    max_key = max(dic, key=dic.get)\n",
    "    real_page = pw.Page(site, max_key)\n",
    "    return __get_categories_of_wiki_page(real_page)\n",
    "        "
   ]
  },
  {
   "cell_type": "code",
   "execution_count": 6,
   "metadata": {},
   "outputs": [],
   "source": [
    "def generate_film_names(film_name):\n",
    "    names = []\n",
    "    name_without_year = __remove_year_from_name(film_name)\n",
    "    names.append(film_name)\n",
    "    names.append(name_without_year)\n",
    "    names.append(name_without_year + \" (film)\")\n",
    "    \n",
    "    if \")\" in film_name:\n",
    "        names.append(film_name.replace(\")\",' film)'))\n",
    "    \n",
    "    if \", The\" in film_name:\n",
    "        tmp = \"The \" + film_name.replace(\", The\",'').strip()\n",
    "        names.append(tmp)\n",
    "        names.append(__remove_year_from_name(tmp))\n",
    "        names.append(__remove_year_from_name(tmp) + \" (film)\")\n",
    "        if \")\" in tmp:\n",
    "            names.append(tmp.replace(\")\",' film)'))\n",
    "            \n",
    "    if \", A\" in film_name:\n",
    "        tmp = \"A \" + film_name.replace(\", A\",'').strip()\n",
    "        names.append(tmp)\n",
    "        names.append(__remove_year_from_name(tmp))\n",
    "        names.append(__remove_year_from_name(tmp) + \" (film)\")\n",
    "        if \")\" in tmp:\n",
    "            names.append(tmp.replace(\")\",' film)'))\n",
    "            \n",
    "    if \", An\" in film_name:\n",
    "        tmp = \"An \" + film_name.replace(\", An\",'').strip()\n",
    "        names.append(tmp)\n",
    "        names.append(__remove_year_from_name(tmp))\n",
    "        names.append(__remove_year_from_name(tmp) + \" (film)\")\n",
    "        if \")\" in tmp:\n",
    "            names.append(tmp.replace(\")\",' film)'))\n",
    "            \n",
    "    if \"Colors\" in film_name:\n",
    "        names.append(film_name.replace(\"Colors\",'Colours').strip())\n",
    "        \n",
    "    if \":\" in film_name:\n",
    "        names.append(film_name.replace(\":\",''))\n",
    "        names.append(__remove_year_from_name(film_name.replace(\":\",'')))\n",
    "        \n",
    "    removed_text_in_brackets = __remove_text_in_brackets(film_name)\n",
    "    names.append(removed_text_in_brackets)\n",
    "    names.append(__remove_year_from_name(removed_text_in_brackets))\n",
    "    return names"
   ]
  },
  {
   "cell_type": "code",
   "execution_count": 7,
   "metadata": {},
   "outputs": [],
   "source": [
    "def get_occ_of_film_in_page(page):\n",
    "    if page.exists():\n",
    "        categories = __get_categories_of_wiki_page(page)\n",
    "        return __count_number_of_film_occ_in_categories(categories)\n",
    "    return 0"
   ]
  },
  {
   "cell_type": "code",
   "execution_count": 8,
   "metadata": {},
   "outputs": [],
   "source": [
    "def __remove_text_in_brackets(name):\n",
    "    m = re.search('\\([^0-9]*\\)', name)\n",
    "    if m:\n",
    "        found = m.group(0)\n",
    "        return name.replace(found + \" \",'').strip()\n",
    "    return name"
   ]
  },
  {
   "cell_type": "code",
   "execution_count": 9,
   "metadata": {},
   "outputs": [],
   "source": [
    "def __remove_year_from_name(name):\n",
    "    m = re.search('(.+)\\W(\\(\\d{4}\\))', name)\n",
    "    if m:\n",
    "        found = m.group(2)\n",
    "        return name.replace(found,'').strip()\n",
    "    return name"
   ]
  },
  {
   "cell_type": "code",
   "execution_count": 10,
   "metadata": {},
   "outputs": [],
   "source": [
    "def __get_categories_of_wiki_page(page):\n",
    "    return [i.title() for i in list(page.categories())]"
   ]
  },
  {
   "cell_type": "code",
   "execution_count": 11,
   "metadata": {},
   "outputs": [],
   "source": [
    "def __count_number_of_film_occ_in_categories(categories):\n",
    "    counter = 0\n",
    "    for cat in categories:\n",
    "        if \"film\" in cat:\n",
    "            counter = counter + 1\n",
    "    return counter"
   ]
  },
  {
   "cell_type": "code",
   "execution_count": 12,
   "metadata": {},
   "outputs": [],
   "source": [
    "def get_movie_id_by_name(name):\n",
    "    return df.loc[df[1] == name][0].values[0]"
   ]
  },
  {
   "cell_type": "code",
   "execution_count": 13,
   "metadata": {},
   "outputs": [],
   "source": [
    "def jaccard_similarity(list1, list2):\n",
    "    intersection = len(list(set(list1).intersection(list2)))\n",
    "    union = (len(list1) + len(list2)) - intersection\n",
    "    if union == 0:\n",
    "        return 0\n",
    "    return float(intersection / union)"
   ]
  },
  {
   "cell_type": "code",
   "execution_count": null,
   "metadata": {
    "scrolled": true
   },
   "outputs": [],
   "source": [
    "dic = {}\n",
    "for movie in movies:\n",
    "    categories = get_film_wiki_categories(movie)\n",
    "    dic[movie] = categories"
   ]
  },
  {
   "cell_type": "code",
   "execution_count": null,
   "metadata": {},
   "outputs": [],
   "source": [
    "with open('movie_categories.pickle', 'wb') as handle:\n",
    "    pickle.dump(dic, handle, protocol=pickle.HIGHEST_PROTOCOL)"
   ]
  },
  {
   "cell_type": "code",
   "execution_count": 182,
   "metadata": {},
   "outputs": [],
   "source": [
    "df = pd.read_csv(\"ml-100k\\\\u.item\", sep=\"|\", header = None, encoding='latin-1')[[0,1]]"
   ]
  },
  {
   "cell_type": "code",
   "execution_count": 251,
   "metadata": {},
   "outputs": [],
   "source": [
    "item_to_item = []\n",
    "for key_1, value_1 in dic.items():\n",
    "    for key_2, value_2 in dic.items():\n",
    "        id_1 = get_movie_id_by_name(key_1)\n",
    "        id_2 = get_movie_id_by_name(key_2)\n",
    "        similarity = jaccard_similarity(value_1,value_2)\n",
    "        item_to_item.append([id_1,id_2,similarity])"
   ]
  },
  {
   "cell_type": "code",
   "execution_count": 252,
   "metadata": {},
   "outputs": [],
   "source": [
    "a = np.array(item_to_item)"
   ]
  },
  {
   "cell_type": "code",
   "execution_count": 253,
   "metadata": {},
   "outputs": [],
   "source": [
    "d = pd.DataFrame(a)"
   ]
  },
  {
   "cell_type": "code",
   "execution_count": null,
   "metadata": {},
   "outputs": [],
   "source": [
    "d['0'] = d['0'] - 1\n",
    "d['1'] = d['1'] - 1"
   ]
  },
  {
   "cell_type": "code",
   "execution_count": 255,
   "metadata": {},
   "outputs": [],
   "source": [
    "d.to_csv(\"artificial_ratings.csv\", index=False)"
   ]
  },
  {
   "cell_type": "code",
   "execution_count": null,
   "metadata": {},
   "outputs": [],
   "source": []
  },
  {
   "cell_type": "code",
   "execution_count": 167,
   "metadata": {},
   "outputs": [
    {
     "data": {
      "text/plain": [
       "85.4934601664685"
      ]
     },
     "execution_count": 167,
     "metadata": {},
     "output_type": "execute_result"
    }
   ],
   "source": [
    "100 - (sum([x[1]==0 for x in arr]) /len(arr))*100"
   ]
  }
 ],
 "metadata": {
  "kernelspec": {
   "display_name": "Python 3",
   "language": "python",
   "name": "python3"
  },
  "language_info": {
   "codemirror_mode": {
    "name": "ipython",
    "version": 3
   },
   "file_extension": ".py",
   "mimetype": "text/x-python",
   "name": "python",
   "nbconvert_exporter": "python",
   "pygments_lexer": "ipython3",
   "version": "3.6.3"
  }
 },
 "nbformat": 4,
 "nbformat_minor": 2
}
