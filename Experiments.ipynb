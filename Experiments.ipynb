{
 "cells": [
  {
   "cell_type": "code",
   "execution_count": 1,
   "metadata": {
    "scrolled": true
   },
   "outputs": [],
   "source": [
    "import math\n",
    "import numpy as np\n",
    "from sklearn.metrics import mean_squared_error\n",
    "from model import SVD\n",
    "from util import load_data\n",
    "from util import load_similarities\n",
    "from util import generate_artificial_ratings\n",
    "%reload_ext autoreload\n",
    "%autoreload 2"
   ]
  },
  {
   "cell_type": "code",
   "execution_count": 2,
   "metadata": {},
   "outputs": [
    {
     "name": "stdout",
     "output_type": "stream",
     "text": [
      "Loading similarities...\n",
      "Loading similarities completed in:  0:02:00.909635\n"
     ]
    }
   ],
   "source": [
    "similarities = load_similarities()"
   ]
  },
  {
   "cell_type": "code",
   "execution_count": 3,
   "metadata": {},
   "outputs": [
    {
     "name": "stdout",
     "output_type": "stream",
     "text": [
      "Loading data...\n",
      "Loading data completed. Sparcitiy: 0.9968\n"
     ]
    }
   ],
   "source": [
    "train_set, test_set, sparcity = load_data(data_removed=.95)"
   ]
  },
  {
   "cell_type": "code",
   "execution_count": 4,
   "metadata": {},
   "outputs": [
    {
     "name": "stdout",
     "output_type": "stream",
     "text": [
      "Loading artificial ratings...\n",
      "Loading artificial ratings completed in:  0:00:32.592104\n"
     ]
    }
   ],
   "source": [
    "artificial_ratings = generate_artificial_ratings(train_set, test_set, similarities)"
   ]
  },
  {
   "cell_type": "code",
   "execution_count": 5,
   "metadata": {},
   "outputs": [
    {
     "data": {
      "text/plain": [
       "(276589, 4)"
      ]
     },
     "execution_count": 5,
     "metadata": {},
     "output_type": "execute_result"
    }
   ],
   "source": [
    "artificial_ratings.shape"
   ]
  },
  {
   "cell_type": "code",
   "execution_count": 6,
   "metadata": {},
   "outputs": [
    {
     "name": "stdout",
     "output_type": "stream",
     "text": [
      "Training started...\n",
      "Artificial Learning rate: 0.00500000\n",
      "Learning rate: 0.00500000\n",
      "Training finished in:  0:00:00.349926\n"
     ]
    }
   ],
   "source": [
    "baseline_algo = SVD()\n",
    "baseline_algo.fit(train_set)\n",
    "\n",
    "baseline_algo_predictions = baseline_algo.test(test_set)\n",
    "baseline_algo_rmse = math.sqrt(mean_squared_error(baseline_algo_predictions[:, 0],\n",
    "                                                  baseline_algo_predictions[:, 1]))"
   ]
  },
  {
   "cell_type": "code",
   "execution_count": 7,
   "metadata": {},
   "outputs": [
    {
     "name": "stdout",
     "output_type": "stream",
     "text": [
      "Training started...\n",
      "Artificial Learning rate: 0.00500000\n",
      "Learning rate: 0.00500000\n",
      "Training finished in:  0:00:38.146234\n"
     ]
    }
   ],
   "source": [
    "artificial_algo = SVD()\n",
    "artificial_algo.fit(artificial_ratings)\n",
    "\n",
    "artificial_algo_predictions = artificial_algo.test(test_set)\n",
    "artificial_algo_rmse = math.sqrt(mean_squared_error(artificial_algo_predictions[:, 0],\n",
    "                                                    artificial_algo_predictions[:, 1]))"
   ]
  },
  {
   "cell_type": "code",
   "execution_count": 8,
   "metadata": {},
   "outputs": [
    {
     "data": {
      "text/plain": [
       "1.0364782483662314"
      ]
     },
     "execution_count": 8,
     "metadata": {},
     "output_type": "execute_result"
    }
   ],
   "source": [
    "baseline_algo_rmse"
   ]
  },
  {
   "cell_type": "code",
   "execution_count": 9,
   "metadata": {},
   "outputs": [
    {
     "data": {
      "text/plain": [
       "1.169591057691538"
      ]
     },
     "execution_count": 9,
     "metadata": {},
     "output_type": "execute_result"
    }
   ],
   "source": [
    "artificial_algo_rmse"
   ]
  },
  {
   "cell_type": "code",
   "execution_count": null,
   "metadata": {},
   "outputs": [],
   "source": []
  },
  {
   "cell_type": "code",
   "execution_count": 10,
   "metadata": {},
   "outputs": [],
   "source": [
    "average_algo_predictions = [(real + artificial) / 2\n",
    "                            for real, artificial in zip(baseline_algo_predictions[:, 1],\n",
    "                                                        artificial_algo_predictions[:, 1])]\n",
    "average_algo_rmse = math.sqrt(mean_squared_error(artificial_algo_predictions[:, 0],\n",
    "                                             average_algo_predictions))"
   ]
  },
  {
   "cell_type": "code",
   "execution_count": 11,
   "metadata": {},
   "outputs": [
    {
     "data": {
      "text/plain": [
       "1.06220579712031"
      ]
     },
     "execution_count": 11,
     "metadata": {},
     "output_type": "execute_result"
    }
   ],
   "source": [
    "average_algo_rmse"
   ]
  },
  {
   "cell_type": "code",
   "execution_count": 12,
   "metadata": {},
   "outputs": [
    {
     "name": "stdout",
     "output_type": "stream",
     "text": [
      "Training started...\n",
      "Artificial Learning rate: 0.00007231\n",
      "Learning rate: 0.00500000\n",
      "Training finished in:  0:02:55.783831\n"
     ]
    }
   ],
   "source": [
    "import numpy as np\n",
    "combined_ratings = np.vstack((train_set, artificial_ratings))\n",
    "np.random.shuffle(combined_ratings)\n",
    "combined_algo = SVD()\n",
    "combined_algo.fit(combined_ratings)\n",
    "\n",
    "combined_algo_predictions = combined_algo.test(test_set)\n",
    "combined_algo_rmse = math.sqrt(mean_squared_error(combined_algo_predictions[:, 0],\n",
    "                                                  combined_algo_predictions[:, 1]))"
   ]
  },
  {
   "cell_type": "code",
   "execution_count": 13,
   "metadata": {},
   "outputs": [
    {
     "data": {
      "text/plain": [
       "1.0420973467525039"
      ]
     },
     "execution_count": 13,
     "metadata": {},
     "output_type": "execute_result"
    }
   ],
   "source": [
    "combined_algo_rmse"
   ]
  }
 ],
 "metadata": {
  "kernelspec": {
   "display_name": "Python 3",
   "language": "python",
   "name": "python3"
  },
  "language_info": {
   "codemirror_mode": {
    "name": "ipython",
    "version": 3
   },
   "file_extension": ".py",
   "mimetype": "text/x-python",
   "name": "python",
   "nbconvert_exporter": "python",
   "pygments_lexer": "ipython3",
   "version": "3.6.4"
  }
 },
 "nbformat": 4,
 "nbformat_minor": 2
}
