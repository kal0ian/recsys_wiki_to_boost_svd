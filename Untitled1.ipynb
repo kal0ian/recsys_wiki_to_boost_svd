{
 "cells": [
  {
   "cell_type": "code",
   "execution_count": 1,
   "metadata": {},
   "outputs": [],
   "source": [
    "from model import SVD"
   ]
  },
  {
   "cell_type": "code",
   "execution_count": null,
   "metadata": {
    "scrolled": true
   },
   "outputs": [],
   "source": [
    "import pandas as pd\n",
    "import numpy as np\n",
    "\n",
    "from sklearn.model_selection import train_test_split\n",
    "from sklearn.metrics import mean_squared_error\n",
    "import math\n",
    "\n",
    "from surprise import Dataset"
   ]
  },
  {
   "cell_type": "code",
   "execution_count": null,
   "metadata": {},
   "outputs": [],
   "source": [
    "USERS_COUNT = 943\n",
    "ITEMS_COUNT = 1682\n",
    "THRESHOLD = 0.05"
   ]
  },
  {
   "cell_type": "code",
   "execution_count": null,
   "metadata": {},
   "outputs": [],
   "source": [
    "def load_data():\n",
    "    data = pd.DataFrame(Dataset.load_builtin(\"ml-100k\").raw_ratings)\n",
    "    data[0] = pd.to_numeric(data[0]) - 1\n",
    "    data[1] = pd.to_numeric(data[1]) - 1\n",
    "    del data[3]\n",
    "    return data"
   ]
  },
  {
   "cell_type": "code",
   "execution_count": null,
   "metadata": {},
   "outputs": [],
   "source": [
    "def load_similarities():\n",
    "    similarities = pd.read_csv(\"artificial_ratings.csv\")\n",
    "    similarities['0'] = similarities['0'] - 1\n",
    "    similarities['1'] = similarities['1'] - 1\n",
    "\n",
    "    similarities_arr = np.zeros((ITEMS_COUNT, ITEMS_COUNT))\n",
    "    for _, row in similarities.iterrows():\n",
    "        if int(row['0']) != int(row['1']):\n",
    "            similarities_arr[int(row['0']), int(row['1'])] = row['2']\n",
    "        \n",
    "    return similarities_arr"
   ]
  },
  {
   "cell_type": "code",
   "execution_count": null,
   "metadata": {},
   "outputs": [],
   "source": [
    "similarities = load_similarities()"
   ]
  },
  {
   "cell_type": "code",
   "execution_count": null,
   "metadata": {},
   "outputs": [],
   "source": [
    "artificial = np.zeros((USERS_COUNT, ITEMS_COUNT))\n",
    "for item in range(ITEMS_COUNT):\n",
    "    for user in range(USERS_COUNT):\n",
    "        rating = 0\n",
    "        all_user_ratings = train_set[train_set[:, 0] == user]\n",
    "        sum_sim = 0\n",
    "        for u, i, r in all_user_ratings:\n",
    "            sim1 = similarities[item, int(i)]\n",
    "            if (sim1 < 0.05):\n",
    "                continue\n",
    "            rating = rating + r * sim1\n",
    "            sum_sim = sum_sim + sim1\n",
    "        if sum_sim == 0:\n",
    "            artificial[user, item] = -1\n",
    "        else:\n",
    "            artificial[user, item] = rating / sum_sim\n",
    "\n",
    "dataframe = pd.DataFrame(columns=[0, 1, 2])\n",
    "artificial_data = []\n",
    "for item in range(ITEMS_COUNT):\n",
    "    for user in range(USERS_COUNT):\n",
    "        if (artificial[user, item] != -1):\n",
    "            artificial_data.append([user, item, artificial[user, item]])"
   ]
  },
  {
   "cell_type": "code",
   "execution_count": null,
   "metadata": {},
   "outputs": [],
   "source": [
    "data = load_data()"
   ]
  },
  {
   "cell_type": "code",
   "execution_count": null,
   "metadata": {},
   "outputs": [],
   "source": [
    "actual_data = data.values"
   ]
  },
  {
   "cell_type": "code",
   "execution_count": null,
   "metadata": {},
   "outputs": [],
   "source": [
    "train_set, _ = train_test_split(actual_data, test_size=0.95)\n",
    "sparcity = 1 - (len(train_set) / (USERS_COUNT * ITEMS_COUNT))\n",
    "print(\"Sparcitiy: %.4f\" % sparcity)\n",
    "train_set, test_set = train_test_split(train_set, test_size=.20)"
   ]
  },
  {
   "cell_type": "code",
   "execution_count": null,
   "metadata": {},
   "outputs": [],
   "source": [
    "artificial_data = np.array(artificial_data)"
   ]
  },
  {
   "cell_type": "code",
   "execution_count": null,
   "metadata": {},
   "outputs": [],
   "source": [
    "artificial_data_l = np.column_stack((artificial_data, np.zeros(artificial_data.shape[0])))\n",
    "train_set_l = np.column_stack((artificial_data, np.ones(artificial_data.shape[0])))"
   ]
  },
  {
   "cell_type": "code",
   "execution_count": null,
   "metadata": {},
   "outputs": [],
   "source": [
    "labled_train_set = np.vstack((artificial_data_l, train_set_l))\n",
    "np.random.shuffle(labled_train_set)"
   ]
  },
  {
   "cell_type": "code",
   "execution_count": null,
   "metadata": {},
   "outputs": [],
   "source": [
    "algo = SVD(verbose=True)\n",
    "algo.fit(labled_train_set)"
   ]
  },
  {
   "cell_type": "code",
   "execution_count": null,
   "metadata": {},
   "outputs": [],
   "source": [
    "algo = SVD(verbose=True)\n",
    "algo.fit(np.array(artificial_data))"
   ]
  },
  {
   "cell_type": "code",
   "execution_count": null,
   "metadata": {},
   "outputs": [],
   "source": [
    "algo = SVD(verbose=True)\n",
    "algo.fit(train_set)"
   ]
  },
  {
   "cell_type": "code",
   "execution_count": null,
   "metadata": {},
   "outputs": [],
   "source": []
  },
  {
   "cell_type": "code",
   "execution_count": null,
   "metadata": {},
   "outputs": [],
   "source": [
    "predictions = [(r_ui_trans, algo.estimate(uid, iid)) for (uid, iid, r_ui_trans) in test_set]"
   ]
  },
  {
   "cell_type": "code",
   "execution_count": null,
   "metadata": {},
   "outputs": [],
   "source": [
    "predictions = np.array(predictions)"
   ]
  },
  {
   "cell_type": "code",
   "execution_count": null,
   "metadata": {
    "scrolled": true
   },
   "outputs": [],
   "source": [
    "math.sqrt(mean_squared_error(predictions[:, 0], predictions[:, 1]))"
   ]
  },
  {
   "cell_type": "code",
   "execution_count": null,
   "metadata": {},
   "outputs": [],
   "source": []
  },
  {
   "cell_type": "code",
   "execution_count": null,
   "metadata": {},
   "outputs": [],
   "source": [
    "predictions = [(r_ui_trans, algo.estimate(uid, iid)) for (uid, iid, r_ui_trans) in actual_data]"
   ]
  },
  {
   "cell_type": "code",
   "execution_count": null,
   "metadata": {},
   "outputs": [],
   "source": []
  }
 ],
 "metadata": {
  "kernelspec": {
   "display_name": "Python 3",
   "language": "python",
   "name": "python3"
  },
  "language_info": {
   "codemirror_mode": {
    "name": "ipython",
    "version": 3
   },
   "file_extension": ".py",
   "mimetype": "text/x-python",
   "name": "python",
   "nbconvert_exporter": "python",
   "pygments_lexer": "ipython3",
   "version": "3.6.4"
  }
 },
 "nbformat": 4,
 "nbformat_minor": 2
}
