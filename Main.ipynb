{
 "cells": [
  {
   "cell_type": "code",
   "execution_count": 1,
   "metadata": {},
   "outputs": [],
   "source": [
    "import math\n",
    "import numpy as np\n",
    "from sklearn.metrics import mean_squared_error\n",
    "from model import SVD\n",
    "from util import load_data\n",
    "from util import load_similarities\n",
    "from util import generate_artificial_ratings"
   ]
  },
  {
   "cell_type": "code",
   "execution_count": 2,
   "metadata": {},
   "outputs": [
    {
     "name": "stdout",
     "output_type": "stream",
     "text": [
      "Loading similarities...\n",
      "Loading similarities completed in:  0:02:08.979926\n"
     ]
    }
   ],
   "source": [
    "similarities = load_similarities()"
   ]
  },
  {
   "cell_type": "code",
   "execution_count": null,
   "metadata": {},
   "outputs": [
    {
     "name": "stdout",
     "output_type": "stream",
     "text": [
      "Loading data...\n",
      "Loading data completed. Sparcitiy: 0.9968\n",
      "Loading artificial ratings...\n"
     ]
    }
   ],
   "source": [
    "result = {}\n",
    "for data_removed in [.95, .80, .60, .40, .20]:\n",
    "    train_set, test_set, sparcity = load_data(data_removed=data_removed)\n",
    "    artificial_ratings = generate_artificial_ratings(train_set, test_set, similarities)\n",
    "    \n",
    "    # Baseline model\n",
    "    print(\"Baseline model\")\n",
    "    baseline_algo = SVD()\n",
    "    baseline_algo.fit(train_set)\n",
    "    \n",
    "    baseline_algo_predictions = baseline_algo.test(test_set)\n",
    "    baseline_algo_rmse = math.sqrt(mean_squared_error(baseline_algo_predictions[:, 0],\n",
    "                                                      baseline_algo_predictions[:, 1]))\n",
    "    print(\"RMSE: %.4f\" % baseline_algo_rmse)\n",
    "    \n",
    "    print(\"\\nModel based on artificial data\")\n",
    "    artificial_algo = SVD()\n",
    "    artificial_algo.fit(artificial_ratings)\n",
    "    \n",
    "    artificial_algo_predictions = artificial_algo.test(test_set)\n",
    "    artificial_algo_rmse = math.sqrt(mean_squared_error(artificial_algo_predictions[:, 0],\n",
    "                                                        artificial_algo_predictions[:, 1]))\n",
    "    print(\"RMSE: %.4f\" % artificial_algo_rmse)\n",
    "    \n",
    "    print(\"\\nTwo separate models\")\n",
    "    average_algo_predictions = [(real + artificial) / 2\n",
    "                            for real, artificial in zip(baseline_algo_predictions[:, 1],\n",
    "                                                        artificial_algo_predictions[:, 1])]\n",
    "    average_algo_rmse = math.sqrt(mean_squared_error(artificial_algo_predictions[:, 0],\n",
    "                                                 average_algo_predictions))\n",
    "    print(\"RMSE: %.4f\" % average_algo_rmse)\n",
    "\n",
    "    print(\"\\nOne Combined model with different learning rate for artificial and real ratings\")\n",
    "    combined_ratings = np.vstack((train_set, artificial_ratings))\n",
    "    np.random.shuffle(combined_ratings)\n",
    "    combined_algo = SVD()\n",
    "    combined_algo.fit(combined_ratings)\n",
    "    \n",
    "    combined_algo_predictions = combined_algo.test(test_set)\n",
    "    combined_algo_rmse = math.sqrt(mean_squared_error(combined_algo_predictions[:, 0],\n",
    "                                                      combined_algo_predictions[:, 1]))\n",
    "    print(\"RMSE: %.4f\" % combined_algo_rmse)\n",
    "    \n",
    "    result[sparcity] = (baseline_algo_rmse, artificial_algo_rmse, average_algo_rmse, combined_algo_rmse)\n",
    "    print();print()"
   ]
  }
 ],
 "metadata": {
  "kernelspec": {
   "display_name": "Python 3",
   "language": "python",
   "name": "python3"
  },
  "language_info": {
   "codemirror_mode": {
    "name": "ipython",
    "version": 3
   },
   "file_extension": ".py",
   "mimetype": "text/x-python",
   "name": "python",
   "nbconvert_exporter": "python",
   "pygments_lexer": "ipython3",
   "version": "3.6.4"
  }
 },
 "nbformat": 4,
 "nbformat_minor": 2
}
